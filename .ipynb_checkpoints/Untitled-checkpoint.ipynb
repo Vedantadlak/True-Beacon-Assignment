{
 "cells": [
  {
   "cell_type": "code",
   "execution_count": null,
   "id": "636be52a",
   "metadata": {},
   "outputs": [],
   "source": [
    "import pandas as pd\n",
    "\n"
   ]
  },
  {
   "cell_type": "code",
   "execution_count": 2,
   "id": "4f3717dc",
   "metadata": {},
   "outputs": [
    {
     "data": {
      "text/html": [
       "<div>\n",
       "<style scoped>\n",
       "    .dataframe tbody tr th:only-of-type {\n",
       "        vertical-align: middle;\n",
       "    }\n",
       "\n",
       "    .dataframe tbody tr th {\n",
       "        vertical-align: top;\n",
       "    }\n",
       "\n",
       "    .dataframe thead th {\n",
       "        text-align: right;\n",
       "    }\n",
       "</style>\n",
       "<table border=\"1\" class=\"dataframe\">\n",
       "  <thead>\n",
       "    <tr style=\"text-align: right;\">\n",
       "      <th></th>\n",
       "      <th>banknifty</th>\n",
       "      <th>nifty</th>\n",
       "      <th>tte</th>\n",
       "    </tr>\n",
       "    <tr>\n",
       "      <th>time</th>\n",
       "      <th></th>\n",
       "      <th></th>\n",
       "      <th></th>\n",
       "    </tr>\n",
       "  </thead>\n",
       "  <tbody>\n",
       "    <tr>\n",
       "      <th>2021-01-01 09:15:00</th>\n",
       "      <td>0.286058</td>\n",
       "      <td>0.199729</td>\n",
       "      <td>27</td>\n",
       "    </tr>\n",
       "    <tr>\n",
       "      <th>2021-01-01 09:16:00</th>\n",
       "      <td>0.285381</td>\n",
       "      <td>0.200433</td>\n",
       "      <td>27</td>\n",
       "    </tr>\n",
       "    <tr>\n",
       "      <th>2021-01-01 09:17:00</th>\n",
       "      <td>0.284233</td>\n",
       "      <td>0.200004</td>\n",
       "      <td>27</td>\n",
       "    </tr>\n",
       "    <tr>\n",
       "      <th>2021-01-01 09:18:00</th>\n",
       "      <td>0.286104</td>\n",
       "      <td>0.199860</td>\n",
       "      <td>27</td>\n",
       "    </tr>\n",
       "    <tr>\n",
       "      <th>2021-01-01 09:19:00</th>\n",
       "      <td>0.285539</td>\n",
       "      <td>0.198951</td>\n",
       "      <td>27</td>\n",
       "    </tr>\n",
       "    <tr>\n",
       "      <th>...</th>\n",
       "      <td>...</td>\n",
       "      <td>...</td>\n",
       "      <td>...</td>\n",
       "    </tr>\n",
       "    <tr>\n",
       "      <th>2022-06-30 15:26:00</th>\n",
       "      <td>0.240701</td>\n",
       "      <td>0.214758</td>\n",
       "      <td>28</td>\n",
       "    </tr>\n",
       "    <tr>\n",
       "      <th>2022-06-30 15:27:00</th>\n",
       "      <td>0.240875</td>\n",
       "      <td>0.216558</td>\n",
       "      <td>28</td>\n",
       "    </tr>\n",
       "    <tr>\n",
       "      <th>2022-06-30 15:28:00</th>\n",
       "      <td>0.242115</td>\n",
       "      <td>0.216794</td>\n",
       "      <td>28</td>\n",
       "    </tr>\n",
       "    <tr>\n",
       "      <th>2022-06-30 15:29:00</th>\n",
       "      <td>0.243426</td>\n",
       "      <td>0.216455</td>\n",
       "      <td>28</td>\n",
       "    </tr>\n",
       "    <tr>\n",
       "      <th>2022-06-30 15:30:00</th>\n",
       "      <td>0.241907</td>\n",
       "      <td>0.216081</td>\n",
       "      <td>28</td>\n",
       "    </tr>\n",
       "  </tbody>\n",
       "</table>\n",
       "<p>690512 rows × 3 columns</p>\n",
       "</div>"
      ],
      "text/plain": [
       "                     banknifty     nifty  tte\n",
       "time                                         \n",
       "2021-01-01 09:15:00   0.286058  0.199729   27\n",
       "2021-01-01 09:16:00   0.285381  0.200433   27\n",
       "2021-01-01 09:17:00   0.284233  0.200004   27\n",
       "2021-01-01 09:18:00   0.286104  0.199860   27\n",
       "2021-01-01 09:19:00   0.285539  0.198951   27\n",
       "...                        ...       ...  ...\n",
       "2022-06-30 15:26:00   0.240701  0.214758   28\n",
       "2022-06-30 15:27:00   0.240875  0.216558   28\n",
       "2022-06-30 15:28:00   0.242115  0.216794   28\n",
       "2022-06-30 15:29:00   0.243426  0.216455   28\n",
       "2022-06-30 15:30:00   0.241907  0.216081   28\n",
       "\n",
       "[690512 rows x 3 columns]"
      ]
     },
     "metadata": {},
     "output_type": "display_data"
    }
   ],
   "source": [
    "df = pd.read_parquet('data.parquet')\n",
    "\n",
    "display(df)"
   ]
  },
  {
   "cell_type": "code",
   "execution_count": 3,
   "id": "bff43e3a",
   "metadata": {},
   "outputs": [],
   "source": [
    "df = df.ffill()\n"
   ]
  },
  {
   "cell_type": "code",
   "execution_count": 4,
   "id": "38d60871",
   "metadata": {},
   "outputs": [],
   "source": [
    "df['spread'] = df['banknifty'] - df['nifty']"
   ]
  },
  {
   "cell_type": "code",
   "execution_count": null,
   "id": "ac9c0dec",
   "metadata": {
    "scrolled": true
   },
   "outputs": [],
   "source": [
    "import matplotlib.pyplot as plt\n",
    "from statsmodels.tsa.stattools import adfuller\n",
    "\n",
    "# Visualize the time series\n",
    "plt.figure(figsize=(12, 6))\n",
    "plt.subplot(2, 1, 1)\n",
    "df['banknifty'].plot(label='Bank Nifty IV')\n",
    "df['nifty'].plot(label='Nifty IV')\n",
    "plt.legend()\n",
    "plt.title('Bank Nifty IV and Nifty IV')\n",
    "\n",
    "plt.subplot(2, 1, 2)\n",
    "df['spread'].plot()\n",
    "plt.title('Volatility Spread')\n",
    "plt.tight_layout()\n",
    "plt.show()\n",
    "\n",
    "# Check for stationarity of the volatility spread\n",
    "spread_stationarity = adfuller(df['spread'])\n",
    "print('Augmented Dickey-Fuller Test Results:')\n",
    "print(f'Test Statistic: {spread_stationarity[0]}')\n",
    "print(f'p-value: {spread_stationarity[1]}')\n",
    "\n",
    "# Analyze the distribution of the volatility spread\n",
    "print('\\nVolatility Spread Summary Statistics:')\n",
    "print(df['spread'].describe())\n",
    "\n",
    "# Plot the distribution of the volatility spread\n",
    "df['spread'].hist(bins=30)\n",
    "plt.title('Distribution of Volatility Spread')\n",
    "plt.show()\n",
    "\n",
    "# Identify potential outliers\n",
    "spread_outliers = df['spread'][(df['spread'] > df['spread'].quantile(0.99)) | (df['spread'] < df['spread'].quantile(0.01))]\n",
    "print(f'\\nNumber of potential outliers: {len(spread_outliers)}')\n",
    "print(spread_outliers)"
   ]
  },
  {
   "cell_type": "code",
   "execution_count": null,
   "id": "48e9f7c1",
   "metadata": {},
   "outputs": [],
   "source": [
    "df"
   ]
  },
  {
   "cell_type": "code",
   "execution_count": null,
   "id": "d97d00b6",
   "metadata": {},
   "outputs": [],
   "source": []
  }
 ],
 "metadata": {
  "kernelspec": {
   "display_name": "Python 3 (ipykernel)",
   "language": "python",
   "name": "python3"
  },
  "language_info": {
   "codemirror_mode": {
    "name": "ipython",
    "version": 3
   },
   "file_extension": ".py",
   "mimetype": "text/x-python",
   "name": "python",
   "nbconvert_exporter": "python",
   "pygments_lexer": "ipython3",
   "version": "3.10.2"
  }
 },
 "nbformat": 4,
 "nbformat_minor": 5
}
