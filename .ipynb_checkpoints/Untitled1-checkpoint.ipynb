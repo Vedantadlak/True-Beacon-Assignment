{
 "cells": [
  {
   "cell_type": "code",
   "execution_count": null,
   "id": "ea2cc5e5",
   "metadata": {},
   "outputs": [],
   "source": [
    "import pandas as pd"
   ]
  },
  {
   "cell_type": "code",
   "execution_count": null,
   "id": "b2841468",
   "metadata": {},
   "outputs": [],
   "source": [
    "import pandas as pd\n",
    "import numpy as np\n",
    "from scipy.optimize import minimize\n",
    "from scipy.stats import zscore"
   ]
  },
  {
   "cell_type": "code",
   "execution_count": null,
   "id": "6281b2d3",
   "metadata": {},
   "outputs": [],
   "source": [
    "df = pd.read_parquet('data.parquet')\n",
    "\n",
    "display(df)"
   ]
  },
  {
   "cell_type": "code",
   "execution_count": null,
   "id": "66bbfe1e",
   "metadata": {},
   "outputs": [],
   "source": [
    "df['spread'] = df['banknifty'] - df['nifty']"
   ]
  },
  {
   "cell_type": "code",
   "execution_count": null,
   "id": "7cd3814a",
   "metadata": {},
   "outputs": [],
   "source": [
    "df['z_score'] = zscore(df['spread'])\n",
    "df['signal'] = np.where(df['z_score'] > 1, 1, np.where(df['z_score'] < -1, -1, 0))\n",
    "df['position'] = df['signal'].shift(1)\n",
    "df['strategy_returns'] = df['position'] * df['spread'] * (df['tte'] * 0.7)\n",
    "base_model_pl = df['strategy_returns'].sum()\n",
    "strategy_returns_std = df['strategy_returns'].std()\n",
    "if strategy_returns_std == 0 or np.isnan(strategy_returns_std):\n",
    "    base_model_sharpe_ratio = np.nan\n",
    "    print(\"Warning: Standard deviation is zero or invalid. Sharpe ratio cannot be calculated.\")\n",
    "else:\n",
    "    base_model_sharpe_ratio = (df['strategy_returns'].mean() / strategy_returns_std) * np.sqrt(len(df))\n",
    "\n",
    "base_model_drawdown = (df['strategy_returns'].cumsum() / df['strategy_returns'].cumsum().cummax()).min()\n",
    "\n",
    "print(f\"Base Model Performance:\")\n",
    "print(f\"Profit/Loss: {base_model_pl:.2f}\")\n",
    "print(f\"Sharpe Ratio: {base_model_sharpe_ratio:.2f}\")\n",
    "print(f\"Drawdown: {base_model_drawdown:.2f}\")"
   ]
  },
  {
   "cell_type": "code",
   "execution_count": null,
   "id": "1ded6a72",
   "metadata": {},
   "outputs": [],
   "source": [
    "# 2. Improved model: Linear regression\n",
    "from sklearn.linear_model import LinearRegression\n",
    "X = df[['banknifty', 'nifty', 'tte']].dropna()\n",
    "y = df['spread'].dropna()\n",
    "from sklearn.impute import SimpleImputer\n",
    "\n",
    "# Impute missing values in X\n",
    "imputer = SimpleImputer(strategy='mean')\n",
    "X = imputer.fit_transform(df[['banknifty', 'nifty', 'tte']])\n",
    "\n",
    "# Impute missing values in y\n",
    "y = df['spread'].fillna(df['spread'].mean())\n",
    "\n",
    "X = df[['banknifty', 'nifty', 'tte']].dropna(subset=['banknifty', 'nifty', 'tte'])\n",
    "y = df['spread']\n",
    "model = LinearRegression()\n",
    "model.fit(X, y)\n",
    "\n",
    "df['predicted_spread'] = model.predict(X)\n",
    "df['residuals'] = df['spread'] - df['predicted_spread']\n",
    "df['improved_signal'] = np.where(df['residuals'] > 0, 1, -1)\n",
    "df['improved_position'] = df['improved_signal'].shift(1)\n",
    "df['improved_strategy_returns'] = df['improved_position'] * df['residuals'] * (df['tte'] * 0.7)\n",
    "improved_model_pl = df['improved_strategy_returns'].sum()\n",
    "\n",
    "# Calculate Sharpe ratio with NaN handling\n",
    "improved_strategy_returns_std = df['improved_strategy_returns'].std()\n",
    "if improved_strategy_returns_std == 0 or np.isnan(improved_strategy_returns_std):\n",
    "    improved_model_sharpe_ratio = np.nan\n",
    "    print(\"Warning: Standard deviation is zero or invalid. Sharpe ratio cannot be calculated.\")\n",
    "else:\n",
    "    improved_model_sharpe_ratio = (df['improved_strategy_returns'].mean() / improved_strategy_returns_std) * np.sqrt(len(df))\n",
    "\n",
    "improved_model_drawdown = (df['improved_strategy_returns'].cumsum() / df['improved_strategy_returns'].cumsum().cummax()).min()\n",
    "\n",
    "# 3. Compare models\n",
    "print(\"\\nBase Model Performance:\")\n",
    "print(f\"Profit/Loss: {base_model_pl:.2f}\")\n",
    "print(f\"Sharpe Ratio: {base_model_sharpe_ratio:.2f}\")\n",
    "print(f\"Drawdown: {base_model_drawdown:.2f}\")\n",
    "\n",
    "print(\"\\nImproved Model Performance:\")\n",
    "print(f\"Profit/Loss: {improved_model_pl:.2f}\")\n",
    "print(f\"Sharpe Ratio: {improved_model_sharpe_ratio:.2f}\")\n",
    "print(f\"Drawdown: {improved_model_drawdown:.2f}\")"
   ]
  },
  {
   "cell_type": "code",
   "execution_count": null,
   "id": "f21de283",
   "metadata": {},
   "outputs": [],
   "source": []
  }
 ],
 "metadata": {
  "kernelspec": {
   "display_name": "Python 3 (ipykernel)",
   "language": "python",
   "name": "python3"
  },
  "language_info": {
   "codemirror_mode": {
    "name": "ipython",
    "version": 3
   },
   "file_extension": ".py",
   "mimetype": "text/x-python",
   "name": "python",
   "nbconvert_exporter": "python",
   "pygments_lexer": "ipython3",
   "version": "3.10.2"
  }
 },
 "nbformat": 4,
 "nbformat_minor": 5
}
